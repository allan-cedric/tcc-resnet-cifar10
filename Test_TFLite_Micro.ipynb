{
 "cells": [
  {
   "cell_type": "markdown",
   "metadata": {},
   "source": [
    "# Test inference on ESP32 microcontroller"
   ]
  },
  {
   "cell_type": "code",
   "execution_count": 476,
   "metadata": {},
   "outputs": [],
   "source": [
    "from __future__ import absolute_import, division, print_function, unicode_literals\n",
    "\n",
    "import glob\n",
    "import serial\n",
    "import time\n",
    "\n",
    "import numpy as np\n",
    "import tensorflow as tf\n",
    "\n",
    "from PIL import Image\n",
    "import matplotlib.pyplot as plt"
   ]
  },
  {
   "cell_type": "code",
   "execution_count": 477,
   "metadata": {},
   "outputs": [],
   "source": [
    "try:\n",
    "  %tensorflow_version 2.x\n",
    "except:\n",
    "  pass"
   ]
  },
  {
   "cell_type": "code",
   "execution_count": 478,
   "metadata": {},
   "outputs": [],
   "source": [
    "(x_train, y_train), (x_test, y_test) = tf.keras.datasets.cifar10.load_data()\n",
    "assert x_train.shape == (50000, 32, 32, 3)\n",
    "assert x_test.shape == (10000, 32, 32, 3)\n",
    "assert y_train.shape == (50000, 1)\n",
    "assert y_test.shape == (10000, 1)"
   ]
  },
  {
   "cell_type": "code",
   "execution_count": 479,
   "metadata": {},
   "outputs": [],
   "source": [
    "# x_train = x_train / 255.0\n",
    "# x_test = x_test / 255.0"
   ]
  },
  {
   "cell_type": "code",
   "execution_count": 480,
   "metadata": {},
   "outputs": [
    {
     "data": {
      "text/plain": [
       "array([[[ 59,  62,  63],\n",
       "        [ 43,  46,  45],\n",
       "        [ 50,  48,  43],\n",
       "        ...,\n",
       "        [158, 132, 108],\n",
       "        [152, 125, 102],\n",
       "        [148, 124, 103]],\n",
       "\n",
       "       [[ 16,  20,  20],\n",
       "        [  0,   0,   0],\n",
       "        [ 18,   8,   0],\n",
       "        ...,\n",
       "        [123,  88,  55],\n",
       "        [119,  83,  50],\n",
       "        [122,  87,  57]],\n",
       "\n",
       "       [[ 25,  24,  21],\n",
       "        [ 16,   7,   0],\n",
       "        [ 49,  27,   8],\n",
       "        ...,\n",
       "        [118,  84,  50],\n",
       "        [120,  84,  50],\n",
       "        [109,  73,  42]],\n",
       "\n",
       "       ...,\n",
       "\n",
       "       [[208, 170,  96],\n",
       "        [201, 153,  34],\n",
       "        [198, 161,  26],\n",
       "        ...,\n",
       "        [160, 133,  70],\n",
       "        [ 56,  31,   7],\n",
       "        [ 53,  34,  20]],\n",
       "\n",
       "       [[180, 139,  96],\n",
       "        [173, 123,  42],\n",
       "        [186, 144,  30],\n",
       "        ...,\n",
       "        [184, 148,  94],\n",
       "        [ 97,  62,  34],\n",
       "        [ 83,  53,  34]],\n",
       "\n",
       "       [[177, 144, 116],\n",
       "        [168, 129,  94],\n",
       "        [179, 142,  87],\n",
       "        ...,\n",
       "        [216, 184, 140],\n",
       "        [151, 118,  84],\n",
       "        [123,  92,  72]]], dtype=uint8)"
      ]
     },
     "execution_count": 480,
     "metadata": {},
     "output_type": "execute_result"
    }
   ],
   "source": [
    "x_train[0]"
   ]
  },
  {
   "cell_type": "code",
   "execution_count": 481,
   "metadata": {},
   "outputs": [],
   "source": [
    "# INPUT_IMAGE_SIZE = 14\n",
    "INPUT_IMAGE_SIZE = 32\n",
    "\n",
    "# Path to TensorFlow Lite model file\n",
    "tflite_model_file = '../models/resnet8-model-2.tflite'\n",
    "\n",
    "# Path to images folder\n",
    "# path = 'test_images_14x14/'\n",
    "# file_format = \".jpg\"\n",
    "\n",
    "# SERIAL_PORT_NAME = '/dev/ttyUSB0'\n",
    "# SERIAL_PORT_NAME = '/dev/ttyUSB1'\n",
    "# SERIAL_PORT_NAME = '/dev/ttyUSB2'\n",
    "# SERIAL_PORT_NAME = '/dev/ttyUSB3'\n",
    "# SERIAL_PORT_NAME = '/dev/ttyUSB4'\n",
    "SERIAL_PORT_NAME = '/dev/ttyUSB5'\n",
    "\n",
    "EXPECTED_PRECISION = 0.000001"
   ]
  },
  {
   "cell_type": "code",
   "execution_count": 482,
   "metadata": {},
   "outputs": [],
   "source": [
    "def init_serial(port_name):\n",
    "    # Configure and open serial port\n",
    "    port = serial.Serial(\n",
    "        port=port_name,\n",
    "        baudrate=115200,\n",
    "        bytesize=serial.EIGHTBITS,\n",
    "        parity=serial.PARITY_NONE,\n",
    "        stopbits=serial.STOPBITS_ONE,\n",
    "        xonxoff=False,\n",
    "        rtscts=False,\n",
    "        dsrdtr=False\n",
    "    )\n",
    "    \n",
    "    port.reset_input_buffer()\n",
    "    port.reset_output_buffer()\n",
    "    return port"
   ]
  },
  {
   "cell_type": "code",
   "execution_count": 483,
   "metadata": {},
   "outputs": [],
   "source": [
    "def send_to_mcu(port, data):\n",
    "    bytes_written = port.write(data)\n",
    "    return bytes_written"
   ]
  },
  {
   "cell_type": "code",
   "execution_count": 484,
   "metadata": {},
   "outputs": [],
   "source": [
    "def read_result_from_mcu(port):\n",
    "    line = port.read_until()   # read a '\\n' terminated line\n",
    "    return line"
   ]
  },
  {
   "cell_type": "code",
   "execution_count": 485,
   "metadata": {},
   "outputs": [],
   "source": [
    "def infer_with_TF_lite(interpreter, input_details, output_details, raw_image):\n",
    "    # Get input size\n",
    "    input_shape = input_details[0]['shape']\n",
    "    # print(input_shape, input_shape[:2], input_shape[1:3])\n",
    "    # size = input_shape[:2] if len(input_shape) == 3 else input_shape[1:3]\n",
    "\n",
    "    # Preprocess image\n",
    "    # print(input_shape)\n",
    "    # raw_image = raw_image.resize(size)\n",
    "    img = np.array(raw_image, dtype=np.float32)\n",
    "    # print(img.shape)\n",
    "\n",
    "    # Normalize image\n",
    "    img = img / 255.\n",
    "\n",
    "    # Add a batch dimension and a dimension because we use grayscale format\n",
    "    # Reshape from (INPUT_IMAGE_SIZE, INPUT_IMAGE_SIZE) to (1, INPUT_IMAGE_SIZE, INPUT_IMAGE_SIZE, 1)\n",
    "    input_data = img.reshape(1, img.shape[0], img.shape[1], img.shape[2])\n",
    "    \n",
    "    # Point the data to be used for testing\n",
    "    interpreter.set_tensor(input_details[0]['index'], input_data)\n",
    "\n",
    "    # Run the interpreter\n",
    "    interpreter.invoke()\n",
    "\n",
    "    # Obtain results\n",
    "    predictions = interpreter.get_tensor(output_details[0]['index'])[0]\n",
    "    \n",
    "    return predictions"
   ]
  },
  {
   "cell_type": "code",
   "execution_count": 486,
   "metadata": {},
   "outputs": [],
   "source": [
    "def infer_with_MCU(raw_image):\n",
    "    img = np.array(raw_image, dtype=np.uint8)\n",
    "    bytes_sent = send_to_mcu(serial_port, img)\n",
    "    \n",
    "    response_str = read_result_from_mcu(serial_port)\n",
    "    response_str = response_str.decode(\"utf-8\")\n",
    "    predictions = np.fromstring(response_str, dtype=np.float32, sep=',')\n",
    "    return predictions\n",
    "    # return None"
   ]
  },
  {
   "cell_type": "code",
   "execution_count": 487,
   "metadata": {},
   "outputs": [],
   "source": [
    "def compare_results(result_tfl, result_mcu):\n",
    "    for i in range(len(result_tfl)):\n",
    "        if abs(result_tfl[i] - result_mcu[i]) > EXPECTED_PRECISION :\n",
    "            return False\n",
    "        else:\n",
    "            pass\n",
    "    return True"
   ]
  },
  {
   "cell_type": "code",
   "execution_count": 488,
   "metadata": {},
   "outputs": [],
   "source": [
    "# Create Interpreter (Load TFLite model).\n",
    "interpreter = tf.lite.Interpreter(model_path=tflite_model_file)\n",
    "# Allocate tensors\n",
    "interpreter.allocate_tensors()"
   ]
  },
  {
   "cell_type": "code",
   "execution_count": 489,
   "metadata": {},
   "outputs": [],
   "source": [
    "# Get input and output tensors.\n",
    "input_details = interpreter.get_input_details()\n",
    "output_details = interpreter.get_output_details()"
   ]
  },
  {
   "cell_type": "markdown",
   "metadata": {},
   "source": [
    "### Be sure your ESP32 board connected to development computer."
   ]
  },
  {
   "cell_type": "code",
   "execution_count": 490,
   "metadata": {},
   "outputs": [
    {
     "name": "stdout",
     "output_type": "stream",
     "text": [
      "dmesg: read kernel buffer failed: Operation not permitted\n"
     ]
    }
   ],
   "source": [
    "# Get list of present serial ports\n",
    "!dmesg | grep -e tty"
   ]
  },
  {
   "cell_type": "code",
   "execution_count": 491,
   "metadata": {},
   "outputs": [
    {
     "name": "stdout",
     "output_type": "stream",
     "text": [
      "Opened serial port : /dev/ttyUSB5\n"
     ]
    }
   ],
   "source": [
    "# Configure and open serial port\n",
    "serial_port = init_serial(SERIAL_PORT_NAME)\n",
    "\n",
    "# Check which port was really used\n",
    "print(\"Opened serial port : {0}\".format(serial_port.name))        "
   ]
  },
  {
   "cell_type": "code",
   "execution_count": 492,
   "metadata": {},
   "outputs": [],
   "source": [
    "# files = [files for files in glob.glob(path + \"*\" + file_format, recursive=False)]\n",
    "# print(\"Found {0} {1} files\".format(len(files), file_format))"
   ]
  },
  {
   "cell_type": "markdown",
   "metadata": {},
   "source": [
    "### Run inference on TensorFlow Lite model and on MCU. Compare results."
   ]
  },
  {
   "cell_type": "code",
   "execution_count": 493,
   "metadata": {
    "scrolled": false
   },
   "outputs": [
    {
     "name": "stdout",
     "output_type": "stream",
     "text": [
      "tfl esp32 image(0): y_pred = 3 | y_test = 3 -> True\n",
      "tfl esp32 image(1): y_pred = 8 | y_test = 8 -> True\n",
      "tfl esp32 image(2): y_pred = 8 | y_test = 8 -> True\n",
      "tfl esp32 image(3): y_pred = 8 | y_test = 0 -> False\n",
      "tfl esp32 image(4): y_pred = 6 | y_test = 6 -> True\n",
      "tfl esp32 image(5): y_pred = 6 | y_test = 6 -> True\n",
      "tfl esp32 image(6): y_pred = 1 | y_test = 1 -> True\n",
      "tfl esp32 image(7): y_pred = 6 | y_test = 6 -> True\n",
      "tfl esp32 image(8): y_pred = 3 | y_test = 3 -> True\n",
      "tfl esp32 image(9): y_pred = 1 | y_test = 1 -> True\n",
      "General Accuracy:  0.9\n"
     ]
    }
   ],
   "source": [
    "# for f in files:\n",
    "i = 0\n",
    "right_preds = 0\n",
    "for raw_image in x_test[:10]:\n",
    "    # Read image\n",
    "    # raw_image = Image.open(f).convert('L')\n",
    "    \n",
    "    # result_tfl = infer_with_TF_lite(interpreter, input_details, output_details, raw_image)\n",
    "\n",
    "    result_mcu = infer_with_MCU(raw_image)\n",
    "\n",
    "    # status = compare_results(result_tfl, result_mcu)\n",
    "    # status_str = \"Ok\" if status else \"Reults NOT eqal!\"\n",
    "    # print(\"For image: {0} - {1}\".format(i, status_str))\n",
    "    # print(\"tfl pc:\", result_tfl)\n",
    "    # print(result_mcu.shape, result_mcu)\n",
    "    \n",
    "    print(f\"tfl esp32 image({i}): y_pred = {np.argmax(result_mcu)} | y_test = {y_test[i][0]} -> {np.argmax(result_mcu) == y_test[i][0]}\")\n",
    "\n",
    "    if np.argmax(result_mcu) == y_test[i][0]:\n",
    "        right_preds += 1\n",
    "    i += 1\n",
    "\n",
    "print(\"General Accuracy: \", right_preds/i)"
   ]
  },
  {
   "cell_type": "code",
   "execution_count": 494,
   "metadata": {},
   "outputs": [],
   "source": [
    "serial_port.close()"
   ]
  }
 ],
 "metadata": {
  "kernelspec": {
   "display_name": "Python 3",
   "language": "python",
   "name": "python3"
  },
  "language_info": {
   "codemirror_mode": {
    "name": "ipython",
    "version": 3
   },
   "file_extension": ".py",
   "mimetype": "text/x-python",
   "name": "python",
   "nbconvert_exporter": "python",
   "pygments_lexer": "ipython3",
   "version": "3.10.12"
  }
 },
 "nbformat": 4,
 "nbformat_minor": 4
}
