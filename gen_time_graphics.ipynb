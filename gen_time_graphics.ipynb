{
 "cells": [
  {
   "cell_type": "code",
   "execution_count": 1,
   "metadata": {},
   "outputs": [],
   "source": [
    "# Module\n",
    "import glob\n",
    "import json\n",
    "import pandas as pd\n",
    "import numpy as np\n",
    "import matplotlib.pyplot as plt"
   ]
  },
  {
   "cell_type": "code",
   "execution_count": 2,
   "metadata": {},
   "outputs": [
    {
     "name": "stdout",
     "output_type": "stream",
     "text": [
      "['./results/res-20240529-092228-resnet8/results-20240529-092228.json']\n",
      "['./results/res-20240531-200256-resnet14/results-20240531-200256.json']\n",
      "['./results/res-20240603-191551-resnet20/results-20240603-191551.json']\n",
      "['./results/res-20240607-175831-resnet26/results-20240607-175831.json']\n"
     ]
    },
    {
     "data": {
      "text/plain": [
       "(          Time\n",
       " 0     7.777869\n",
       " 1     7.777839\n",
       " 2     7.777931\n",
       " 3     7.777902\n",
       " 4     7.777941\n",
       " ...        ...\n",
       " 9995  7.777919\n",
       " 9996  7.777880\n",
       " 9997  7.777885\n",
       " 9998  7.777918\n",
       " 9999  7.777861\n",
       " \n",
       " [10000 rows x 1 columns],\n",
       "           Time\n",
       " 0     16.36938\n",
       " 1     16.36944\n",
       " 2     16.36939\n",
       " 3     16.36940\n",
       " 4     16.36934\n",
       " ...        ...\n",
       " 9995  16.36944\n",
       " 9996  16.36935\n",
       " 9997  16.36939\n",
       " 9998  16.36937\n",
       " 9999  16.36934\n",
       " \n",
       " [10000 rows x 1 columns])"
      ]
     },
     "execution_count": 2,
     "metadata": {},
     "output_type": "execute_result"
    }
   ],
   "source": [
    "# ESP32 Time log\n",
    "esp32_time_logs = {}\n",
    "for n in [8, 14, 20, 26]:\n",
    "    time_log_file = glob.glob(f'./results/*resnet{n}/results*.json')\n",
    "    print(time_log_file)\n",
    "    with open(time_log_file[0], \"r\") as f:\n",
    "        time_log = json.load(f)\n",
    "    esp32_time_logs[str(n)] = pd.DataFrame({\"Time\": [time_log[i][\"inference_time\"] for i in time_log]})\n",
    "esp32_time_logs[\"8\"], esp32_time_logs[\"14\"]"
   ]
  },
  {
   "cell_type": "code",
   "execution_count": 3,
   "metadata": {},
   "outputs": [
    {
     "name": "stdout",
     "output_type": "stream",
     "text": [
      "['./results/res-20240611-065149-resnet8-tflite-pi/results-20240611-065149.json']\n",
      "['./results/res-20240611-070204-resnet14-tflite-pi/results-20240611-070204.json']\n",
      "['./results/res-20240611-071142-resnet20-tflite-pi/results-20240611-071142.json']\n",
      "['./results/res-20240611-072202-resnet26-tflite-pi/results-20240611-072202.json']\n"
     ]
    },
    {
     "data": {
      "text/plain": [
       "(          Time\n",
       " 0     0.041694\n",
       " 1     0.008897\n",
       " 2     0.008787\n",
       " 3     0.009236\n",
       " 4     0.008755\n",
       " ...        ...\n",
       " 9995  0.009218\n",
       " 9996  0.008771\n",
       " 9997  0.008770\n",
       " 9998  0.008867\n",
       " 9999  0.008814\n",
       " \n",
       " [10000 rows x 1 columns],\n",
       "           Time\n",
       " 0     0.060692\n",
       " 1     0.017700\n",
       " 2     0.017346\n",
       " 3     0.017352\n",
       " 4     0.017388\n",
       " ...        ...\n",
       " 9995  0.017434\n",
       " 9996  0.017292\n",
       " 9997  0.017372\n",
       " 9998  0.017729\n",
       " 9999  0.017313\n",
       " \n",
       " [10000 rows x 1 columns])"
      ]
     },
     "execution_count": 3,
     "metadata": {},
     "output_type": "execute_result"
    }
   ],
   "source": [
    "# RPi Tflite Time log\n",
    "rpi_tflite_time_logs = {}\n",
    "for n in [8, 14, 20, 26]:\n",
    "    time_log_file = glob.glob(f'./results/*resnet{n}*tflite-pi/results*.json')\n",
    "    print(time_log_file)\n",
    "    with open(time_log_file[0], \"r\") as f:\n",
    "        time_log = json.load(f)\n",
    "    rpi_tflite_time_logs[str(n)] = pd.DataFrame({\"Time\": [time_log[i][\"inference_time\"] for i in time_log]})\n",
    "rpi_tflite_time_logs[\"8\"], rpi_tflite_time_logs[\"14\"]"
   ]
  },
  {
   "cell_type": "code",
   "execution_count": 4,
   "metadata": {},
   "outputs": [
    {
     "name": "stdout",
     "output_type": "stream",
     "text": [
      "['./results/res-20240612-192912-resnet8-tf-pi/results-20240612-192912.json']\n",
      "['./results/res-20240612-203957-resnet14-tf-pi/results-20240612-203957.json']\n",
      "['./results/res-20240612-222009-resnet20-tf-pi/results-20240612-222009.json']\n",
      "['./results/res-20240613-211345-resnet26-tf-pi/results-20240613-211345.json']\n"
     ]
    },
    {
     "data": {
      "text/plain": [
       "(          Time\n",
       " 0     0.744318\n",
       " 1     0.218050\n",
       " 2     0.232046\n",
       " 3     0.239547\n",
       " 4     0.232382\n",
       " ...        ...\n",
       " 9995  0.229460\n",
       " 9996  0.191063\n",
       " 9997  0.229034\n",
       " 9998  0.229551\n",
       " 9999  0.230030\n",
       " \n",
       " [10000 rows x 1 columns],\n",
       "           Time\n",
       " 0     0.870454\n",
       " 1     0.379581\n",
       " 2     0.399956\n",
       " 3     0.400430\n",
       " 4     0.383729\n",
       " ...        ...\n",
       " 9995  0.395644\n",
       " 9996  0.328653\n",
       " 9997  0.394461\n",
       " 9998  0.399502\n",
       " 9999  0.388351\n",
       " \n",
       " [10000 rows x 1 columns])"
      ]
     },
     "execution_count": 4,
     "metadata": {},
     "output_type": "execute_result"
    }
   ],
   "source": [
    "# RPi Tf Time log\n",
    "rpi_tf_time_logs = {}\n",
    "for n in [8, 14, 20, 26]:\n",
    "    time_log_file = glob.glob(f'./results/*resnet{n}*tf-pi/results*.json')\n",
    "    print(time_log_file)\n",
    "    with open(time_log_file[0], \"r\") as f:\n",
    "        time_log = json.load(f)\n",
    "    rpi_tf_time_logs[str(n)] = pd.DataFrame({\"Time\": [time_log[i][\"inference_time\"] for i in time_log]})\n",
    "rpi_tf_time_logs[\"8\"], rpi_tf_time_logs[\"14\"]"
   ]
  },
  {
   "cell_type": "code",
   "execution_count": 5,
   "metadata": {},
   "outputs": [
    {
     "data": {
      "text/plain": [
       "(               Time\n",
       " count  10000.000000\n",
       " mean       7.777892\n",
       " std        0.000037\n",
       " min        7.777714\n",
       " 25%        7.777869\n",
       " 50%        7.777894\n",
       " 75%        7.777916\n",
       " max        7.778031,\n",
       "                Time\n",
       " count  10000.000000\n",
       " mean       0.008536\n",
       " std        0.001287\n",
       " min        0.003808\n",
       " 25%        0.008750\n",
       " 50%        0.008793\n",
       " 75%        0.008838\n",
       " max        0.041694,\n",
       "                Time\n",
       " count  10000.000000\n",
       " mean       0.222211\n",
       " std        0.017630\n",
       " min        0.133904\n",
       " 25%        0.226744\n",
       " 50%        0.228200\n",
       " 75%        0.229034\n",
       " max        0.744318)"
      ]
     },
     "execution_count": 5,
     "metadata": {},
     "output_type": "execute_result"
    }
   ],
   "source": [
    "esp32_time_logs[\"8\"].describe(), rpi_tflite_time_logs[\"8\"].describe(), rpi_tf_time_logs[\"8\"].describe()"
   ]
  },
  {
   "cell_type": "code",
   "execution_count": 6,
   "metadata": {},
   "outputs": [
    {
     "name": "stdout",
     "output_type": "stream",
     "text": [
      "8: 7.777891537841796 7.77803076171875\n",
      "14: 16.369391475390625 16.3695498046875\n",
      "20: 24.960737991796876 24.96094921875\n",
      "26: 33.55272817109375 33.55298828125\n"
     ]
    }
   ],
   "source": [
    "# Exemplo de media e max\n",
    "for n in [8, 14, 20, 26]:\n",
    "    print(f\"{n}:\", esp32_time_logs[str(n)][\"Time\"].mean(), esp32_time_logs[str(n)][\"Time\"].max())"
   ]
  },
  {
   "cell_type": "code",
   "execution_count": 8,
   "metadata": {},
   "outputs": [
    {
     "data": {
      "image/png": "[encoded data removed]",
      "text/plain": [
       "<Figure size 800x600 with 1 Axes>"
      ]
     },
     "metadata": {},
     "output_type": "display_data"
    }
   ],
   "source": [
    "resnets = (\"ResNet-8\", \"ResNet-14\", \"ResNet-20\", \"ResNet-26\")\n",
    "\n",
    "power_means = {}\n",
    "power_means['ESP32 (TFLite)'] = [round(esp32_time_logs[str(n)][\"Time\"].mean(), 3) for n in [8, 14, 20, 26]]\n",
    "power_means['RPi (TFLite)'] = [round(rpi_tflite_time_logs[str(n)][\"Time\"].mean(), 3) for n in [8, 14, 20, 26]]\n",
    "power_means['RPi (TF)'] = [round(rpi_tf_time_logs[str(n)][\"Time\"].mean(), 3) for n in [8, 14, 20, 26]]\n",
    "\n",
    "x = np.arange(len(resnets))  # the label locations\n",
    "width = 0.3  # the width of the bars\n",
    "multiplier = 0\n",
    "\n",
    "fig, ax = plt.subplots(layout='constrained', figsize=(8, 6))\n",
    "\n",
    "for attribute, measurement in power_means.items():\n",
    "    offset = width * multiplier\n",
    "    rects = ax.bar(x + offset, measurement, width, label=attribute)\n",
    "    ax.bar_label(rects, padding=3)\n",
    "    multiplier += 1\n",
    "\n",
    "# Add some text for labels, title and custom x-axis tick labels, etc.\n",
    "ax.set_ylabel('Tempo de execução (s)')\n",
    "# ax.set_title('Inference time means in all platforms')\n",
    "ax.set_xticks(x + width, resnets)\n",
    "ax.legend(loc='upper left', ncols=3)\n",
    "ax.set_ylim(0, 35)\n",
    "\n",
    "plt.show()"
   ]
  }
 ],
 "metadata": {
  "kernelspec": {
   "display_name": ".venv",
   "language": "python",
   "name": "python3"
  },
  "language_info": {
   "codemirror_mode": {
    "name": "ipython",
    "version": 3
   },
   "file_extension": ".py",
   "mimetype": "text/x-python",
   "name": "python",
   "nbconvert_exporter": "python",
   "pygments_lexer": "ipython3",
   "version": "3.10.12"
  }
 },
 "nbformat": 4,
 "nbformat_minor": 2
}
