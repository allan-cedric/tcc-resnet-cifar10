{
 "cells": [
  {
   "cell_type": "markdown",
   "metadata": {},
   "source": [
    "# ESP32 CIFAR-10 Test"
   ]
  },
  {
   "cell_type": "markdown",
   "metadata": {},
   "source": [
    "## Modules"
   ]
  },
  {
   "cell_type": "code",
   "execution_count": 113,
   "metadata": {},
   "outputs": [],
   "source": [
    "import json\n",
    "import numpy as np\n",
    "import os\n",
    "import serial\n",
    "from tensorflow.keras.datasets import cifar10\n",
    "import time\n",
    "\n",
    "from sklearn.metrics import classification_report, confusion_matrix, ConfusionMatrixDisplay"
   ]
  },
  {
   "cell_type": "markdown",
   "metadata": {},
   "source": [
    "## CIFAR-10 Dataset"
   ]
  },
  {
   "cell_type": "code",
   "execution_count": 114,
   "metadata": {},
   "outputs": [],
   "source": [
    "(x_train, y_train), (x_test, y_test) = cifar10.load_data()\n",
    "assert x_train.shape == (50000, 32, 32, 3)\n",
    "assert x_test.shape == (10000, 32, 32, 3)\n",
    "assert y_train.shape == (50000, 1)\n",
    "assert y_test.shape == (10000, 1)"
   ]
  },
  {
   "cell_type": "code",
   "execution_count": 115,
   "metadata": {},
   "outputs": [
    {
     "data": {
      "text/plain": [
       "array([[[ 59,  62,  63],\n",
       "        [ 43,  46,  45],\n",
       "        [ 50,  48,  43],\n",
       "        ...,\n",
       "        [158, 132, 108],\n",
       "        [152, 125, 102],\n",
       "        [148, 124, 103]],\n",
       "\n",
       "       [[ 16,  20,  20],\n",
       "        [  0,   0,   0],\n",
       "        [ 18,   8,   0],\n",
       "        ...,\n",
       "        [123,  88,  55],\n",
       "        [119,  83,  50],\n",
       "        [122,  87,  57]],\n",
       "\n",
       "       [[ 25,  24,  21],\n",
       "        [ 16,   7,   0],\n",
       "        [ 49,  27,   8],\n",
       "        ...,\n",
       "        [118,  84,  50],\n",
       "        [120,  84,  50],\n",
       "        [109,  73,  42]],\n",
       "\n",
       "       ...,\n",
       "\n",
       "       [[208, 170,  96],\n",
       "        [201, 153,  34],\n",
       "        [198, 161,  26],\n",
       "        ...,\n",
       "        [160, 133,  70],\n",
       "        [ 56,  31,   7],\n",
       "        [ 53,  34,  20]],\n",
       "\n",
       "       [[180, 139,  96],\n",
       "        [173, 123,  42],\n",
       "        [186, 144,  30],\n",
       "        ...,\n",
       "        [184, 148,  94],\n",
       "        [ 97,  62,  34],\n",
       "        [ 83,  53,  34]],\n",
       "\n",
       "       [[177, 144, 116],\n",
       "        [168, 129,  94],\n",
       "        [179, 142,  87],\n",
       "        ...,\n",
       "        [216, 184, 140],\n",
       "        [151, 118,  84],\n",
       "        [123,  92,  72]]], dtype=uint8)"
      ]
     },
     "execution_count": 115,
     "metadata": {},
     "output_type": "execute_result"
    }
   ],
   "source": [
    "x_train[0]"
   ]
  },
  {
   "cell_type": "markdown",
   "metadata": {},
   "source": [
    "## ESP32 MCU Procedures"
   ]
  },
  {
   "cell_type": "code",
   "execution_count": 116,
   "metadata": {},
   "outputs": [],
   "source": [
    "def init_serial(port_name):\n",
    "    # Configure and open serial port\n",
    "    port = serial.Serial(\n",
    "        port=port_name,\n",
    "        baudrate=115200,\n",
    "        bytesize=serial.EIGHTBITS,\n",
    "        parity=serial.PARITY_NONE,\n",
    "        stopbits=serial.STOPBITS_ONE,\n",
    "        xonxoff=False,\n",
    "        rtscts=False,\n",
    "        dsrdtr=False\n",
    "    )\n",
    "    \n",
    "    port.reset_input_buffer()\n",
    "    port.reset_output_buffer()\n",
    "    return port"
   ]
  },
  {
   "cell_type": "code",
   "execution_count": 117,
   "metadata": {},
   "outputs": [],
   "source": [
    "def send_to_mcu(port, data):\n",
    "    bytes_written = port.write(data)\n",
    "    return bytes_written"
   ]
  },
  {
   "cell_type": "code",
   "execution_count": 118,
   "metadata": {},
   "outputs": [],
   "source": [
    "def read_result_from_mcu(port):\n",
    "    line = port.read_until()   # read a '\\n' terminated line\n",
    "    return line"
   ]
  },
  {
   "cell_type": "code",
   "execution_count": 119,
   "metadata": {},
   "outputs": [],
   "source": [
    "def infer_with_MCU(raw_image):\n",
    "    img = np.array(raw_image, dtype=np.uint8)\n",
    "    bytes_sent = send_to_mcu(serial_port, img)\n",
    "    \n",
    "    response_str = read_result_from_mcu(serial_port)\n",
    "    response_str = response_str.decode(\"utf-8\")\n",
    "    predictions = np.fromstring(response_str, dtype=np.float32, sep=',')\n",
    "    return predictions[:-2], predictions[-2]\n",
    "    # return None, None"
   ]
  },
  {
   "cell_type": "markdown",
   "metadata": {},
   "source": [
    "## Serial port setup"
   ]
  },
  {
   "cell_type": "code",
   "execution_count": 120,
   "metadata": {},
   "outputs": [
    {
     "name": "stdout",
     "output_type": "stream",
     "text": [
      "Opened serial port : /dev/ttyUSB0\n"
     ]
    }
   ],
   "source": [
    "SERIAL_PORT_NAME = '/dev/ttyUSB0'\n",
    "# SERIAL_PORT_NAME = '/dev/ttyUSB1'\n",
    "# SERIAL_PORT_NAME = '/dev/ttyUSB2'\n",
    "# SERIAL_PORT_NAME = '/dev/ttyUSB3'\n",
    "# SERIAL_PORT_NAME = '/dev/ttyUSB4'\n",
    "# SERIAL_PORT_NAME = '/dev/ttyUSB5'\n",
    "\n",
    "# Configure and open serial port\n",
    "serial_port = init_serial(SERIAL_PORT_NAME)\n",
    "\n",
    "# Check which port was really used\n",
    "print(\"Opened serial port : {0}\".format(serial_port.name))"
   ]
  },
  {
   "cell_type": "markdown",
   "metadata": {},
   "source": [
    "## Predictions"
   ]
  },
  {
   "cell_type": "code",
   "execution_count": 121,
   "metadata": {
    "scrolled": false
   },
   "outputs": [
    {
     "name": "stdout",
     "output_type": "stream",
     "text": [
      "General Accuracy:  0.8\n"
     ]
    }
   ],
   "source": [
    "i = 0\n",
    "n = 5\n",
    "right_preds = 0\n",
    "y_pred_label = []\n",
    "results = {}\n",
    "for raw_image in x_test[:n]:\n",
    "    \n",
    "    result_mcu, inference_time = infer_with_MCU(raw_image)\n",
    "    \n",
    "    # print(f\"tfl esp32 image({i}) {inference_time/1000}s: y_pred = {np.argmax(result_mcu)} | y_test = {y_test[i][0]} -> {np.argmax(result_mcu) == y_test[i][0]}\")\n",
    "    \n",
    "    pred_label = np.argmax(result_mcu)\n",
    "    y_pred_label.append(pred_label)\n",
    "\n",
    "    if pred_label == y_test[i][0]:\n",
    "        right_preds += 1\n",
    "\n",
    "    # dict para o arquivo de dados de teste\n",
    "    results[str(i)] = {\n",
    "        \"inference_time\": float(inference_time/1000),\n",
    "        \"pred_label\": int(pred_label),\n",
    "        \"true_label\": int(y_test[i][0])\n",
    "    }\n",
    "\n",
    "    i += 1\n",
    "\n",
    "print(\"General Accuracy: \", right_preds/n)"
   ]
  },
  {
   "cell_type": "markdown",
   "metadata": {},
   "source": [
    "## Statistics"
   ]
  },
  {
   "cell_type": "code",
   "execution_count": 122,
   "metadata": {},
   "outputs": [
    {
     "name": "stdout",
     "output_type": "stream",
     "text": [
      "Classification Report     : \n",
      "\n",
      "\n",
      "               precision    recall  f1-score   support\n",
      "\n",
      "           0       0.00      0.00      0.00         1\n",
      "           3       1.00      1.00      1.00         1\n",
      "           6       1.00      1.00      1.00         1\n",
      "           8       0.67      1.00      0.80         2\n",
      "\n",
      "    accuracy                           0.80         5\n",
      "   macro avg       0.67      0.75      0.70         5\n",
      "weighted avg       0.67      0.80      0.72         5\n",
      "\n"
     ]
    },
    {
     "name": "stderr",
     "output_type": "stream",
     "text": [
      "/home/allan/tcc/git/esp32-resnet-cifar10/.venv/lib/python3.10/site-packages/sklearn/metrics/_classification.py:1517: UndefinedMetricWarning: Precision is ill-defined and being set to 0.0 in labels with no predicted samples. Use `zero_division` parameter to control this behavior.\n",
      "  _warn_prf(average, modifier, f\"{metric.capitalize()} is\", len(result))\n",
      "/home/allan/tcc/git/esp32-resnet-cifar10/.venv/lib/python3.10/site-packages/sklearn/metrics/_classification.py:1517: UndefinedMetricWarning: Precision is ill-defined and being set to 0.0 in labels with no predicted samples. Use `zero_division` parameter to control this behavior.\n",
      "  _warn_prf(average, modifier, f\"{metric.capitalize()} is\", len(result))\n",
      "/home/allan/tcc/git/esp32-resnet-cifar10/.venv/lib/python3.10/site-packages/sklearn/metrics/_classification.py:1517: UndefinedMetricWarning: Precision is ill-defined and being set to 0.0 in labels with no predicted samples. Use `zero_division` parameter to control this behavior.\n",
      "  _warn_prf(average, modifier, f\"{metric.capitalize()} is\", len(result))\n"
     ]
    }
   ],
   "source": [
    "y_true_label = np.reshape(y_test[:n], -1)\n",
    "y_pred_label = np.array(y_pred_label)\n",
    "print('Classification Report     : \\n\\n\\n' , classification_report(y_true_label, y_pred_label))\n",
    "# y_true_label, y_pred_label"
   ]
  },
  {
   "cell_type": "code",
   "execution_count": 123,
   "metadata": {},
   "outputs": [
    {
     "data": {
      "text/plain": [
       "<sklearn.metrics._plot.confusion_matrix.ConfusionMatrixDisplay at 0x767f44b54bb0>"
      ]
     },
     "execution_count": 123,
     "metadata": {},
     "output_type": "execute_result"
    },
    {
     "data": {
      "image/png": "[encoded data removed]",
      "text/plain": [
       "<Figure size 640x480 with 2 Axes>"
      ]
     },
     "metadata": {},
     "output_type": "display_data"
    }
   ],
   "source": [
    "# print(y_true_label, y_pred_label, np.concatenate((y_true_label, y_pred_label), axis=0))\n",
    "all_y_labels = np.unique(np.concatenate((y_true_label, y_pred_label), axis=0))\n",
    "cifar10_labels = [\n",
    "    \"airplane\",\n",
    "    \"automobile\",\n",
    "    \"bird\",\n",
    "    \"cat\",\n",
    "    \"deer\",\n",
    "    \"dog\",\n",
    "    \"frog\",\n",
    "    \"horse\",\n",
    "    \"ship\",\n",
    "    \"truck\"\n",
    "]\n",
    "cvt_labels = [cifar10_labels[l] for l in all_y_labels]\n",
    "cm = confusion_matrix(y_true_label, y_pred_label)\n",
    "cm_display = ConfusionMatrixDisplay(cm, display_labels=cvt_labels)\n",
    "cm_display.plot()"
   ]
  },
  {
   "cell_type": "markdown",
   "metadata": {},
   "source": [
    "### Saving statistics"
   ]
  },
  {
   "cell_type": "code",
   "execution_count": 124,
   "metadata": {},
   "outputs": [
    {
     "name": "stderr",
     "output_type": "stream",
     "text": [
      "/home/allan/tcc/git/esp32-resnet-cifar10/.venv/lib/python3.10/site-packages/sklearn/metrics/_classification.py:1517: UndefinedMetricWarning: Precision is ill-defined and being set to 0.0 in labels with no predicted samples. Use `zero_division` parameter to control this behavior.\n",
      "  _warn_prf(average, modifier, f\"{metric.capitalize()} is\", len(result))\n",
      "/home/allan/tcc/git/esp32-resnet-cifar10/.venv/lib/python3.10/site-packages/sklearn/metrics/_classification.py:1517: UndefinedMetricWarning: Precision is ill-defined and being set to 0.0 in labels with no predicted samples. Use `zero_division` parameter to control this behavior.\n",
      "  _warn_prf(average, modifier, f\"{metric.capitalize()} is\", len(result))\n",
      "/home/allan/tcc/git/esp32-resnet-cifar10/.venv/lib/python3.10/site-packages/sklearn/metrics/_classification.py:1517: UndefinedMetricWarning: Precision is ill-defined and being set to 0.0 in labels with no predicted samples. Use `zero_division` parameter to control this behavior.\n",
      "  _warn_prf(average, modifier, f\"{metric.capitalize()} is\", len(result))\n"
     ]
    }
   ],
   "source": [
    "t_write = time.strftime(\"%Y%m%d-%H%M%S\")\n",
    "dir_path = f'./results/res-{t_write}/'\n",
    "if not os.path.exists(dir_path):\n",
    "    os.makedirs(dir_path)\n",
    "\n",
    "c_report = classification_report(y_true_label, y_pred_label, output_dict=True)\n",
    "c_report_path = os.path.join(dir_path, f'creport-{t_write}.json')\n",
    "with open(c_report_path, \"w\") as c_report_file:\n",
    "    json.dump(c_report, c_report_file, indent=4)"
   ]
  },
  {
   "cell_type": "code",
   "execution_count": 125,
   "metadata": {},
   "outputs": [],
   "source": [
    "results_path = os.path.join(dir_path, f'results-{t_write}.json')\n",
    "with open(results_path, \"w\") as results_file:\n",
    "    json.dump(results, results_file, indent=4)"
   ]
  },
  {
   "cell_type": "code",
   "execution_count": 126,
   "metadata": {},
   "outputs": [],
   "source": [
    "cm_path = os.path.join(dir_path, f'cmatrix-{t_write}.png')\n",
    "cm_display.figure_.savefig(cm_path, dpi=300)"
   ]
  }
 ],
 "metadata": {
  "kernelspec": {
   "display_name": "Python 3",
   "language": "python",
   "name": "python3"
  },
  "language_info": {
   "codemirror_mode": {
    "name": "ipython",
    "version": 3
   },
   "file_extension": ".py",
   "mimetype": "text/x-python",
   "name": "python",
   "nbconvert_exporter": "python",
   "pygments_lexer": "ipython3",
   "version": "3.10.12"
  }
 },
 "nbformat": 4,
 "nbformat_minor": 4
}
