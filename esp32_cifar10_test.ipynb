{
 "cells": [
  {
   "cell_type": "markdown",
   "metadata": {},
   "source": [
    "# ESP32 CIFAR-10 Test"
   ]
  },
  {
   "cell_type": "markdown",
   "metadata": {},
   "source": [
    "## Modules"
   ]
  },
  {
   "cell_type": "code",
   "execution_count": 5,
   "metadata": {},
   "outputs": [],
   "source": [
    "import matplotlib.pyplot as plt\n",
    "import numpy as np\n",
    "import seaborn as sn\n",
    "import serial\n",
    "from tensorflow.keras.datasets import cifar10\n",
    "import time\n",
    "\n",
    "from sklearn.metrics import classification_report, confusion_matrix"
   ]
  },
  {
   "cell_type": "markdown",
   "metadata": {},
   "source": [
    "## CIFAR-10 Dataset"
   ]
  },
  {
   "cell_type": "code",
   "execution_count": 6,
   "metadata": {},
   "outputs": [],
   "source": [
    "(x_train, y_train), (x_test, y_test) = cifar10.load_data()\n",
    "assert x_train.shape == (50000, 32, 32, 3)\n",
    "assert x_test.shape == (10000, 32, 32, 3)\n",
    "assert y_train.shape == (50000, 1)\n",
    "assert y_test.shape == (10000, 1)"
   ]
  },
  {
   "cell_type": "code",
   "execution_count": 7,
   "metadata": {},
   "outputs": [
    {
     "data": {
      "text/plain": [
       "array([[[ 59,  62,  63],\n",
       "        [ 43,  46,  45],\n",
       "        [ 50,  48,  43],\n",
       "        ...,\n",
       "        [158, 132, 108],\n",
       "        [152, 125, 102],\n",
       "        [148, 124, 103]],\n",
       "\n",
       "       [[ 16,  20,  20],\n",
       "        [  0,   0,   0],\n",
       "        [ 18,   8,   0],\n",
       "        ...,\n",
       "        [123,  88,  55],\n",
       "        [119,  83,  50],\n",
       "        [122,  87,  57]],\n",
       "\n",
       "       [[ 25,  24,  21],\n",
       "        [ 16,   7,   0],\n",
       "        [ 49,  27,   8],\n",
       "        ...,\n",
       "        [118,  84,  50],\n",
       "        [120,  84,  50],\n",
       "        [109,  73,  42]],\n",
       "\n",
       "       ...,\n",
       "\n",
       "       [[208, 170,  96],\n",
       "        [201, 153,  34],\n",
       "        [198, 161,  26],\n",
       "        ...,\n",
       "        [160, 133,  70],\n",
       "        [ 56,  31,   7],\n",
       "        [ 53,  34,  20]],\n",
       "\n",
       "       [[180, 139,  96],\n",
       "        [173, 123,  42],\n",
       "        [186, 144,  30],\n",
       "        ...,\n",
       "        [184, 148,  94],\n",
       "        [ 97,  62,  34],\n",
       "        [ 83,  53,  34]],\n",
       "\n",
       "       [[177, 144, 116],\n",
       "        [168, 129,  94],\n",
       "        [179, 142,  87],\n",
       "        ...,\n",
       "        [216, 184, 140],\n",
       "        [151, 118,  84],\n",
       "        [123,  92,  72]]], dtype=uint8)"
      ]
     },
     "execution_count": 7,
     "metadata": {},
     "output_type": "execute_result"
    }
   ],
   "source": [
    "x_train[0]"
   ]
  },
  {
   "cell_type": "markdown",
   "metadata": {},
   "source": [
    "## ESP32 MCU Procedures"
   ]
  },
  {
   "cell_type": "code",
   "execution_count": 76,
   "metadata": {},
   "outputs": [],
   "source": [
    "def init_serial(port_name):\n",
    "    # Configure and open serial port\n",
    "    port = serial.Serial(\n",
    "        port=port_name,\n",
    "        baudrate=115200,\n",
    "        bytesize=serial.EIGHTBITS,\n",
    "        parity=serial.PARITY_NONE,\n",
    "        stopbits=serial.STOPBITS_ONE,\n",
    "        xonxoff=False,\n",
    "        rtscts=False,\n",
    "        dsrdtr=False\n",
    "    )\n",
    "    \n",
    "    port.reset_input_buffer()\n",
    "    port.reset_output_buffer()\n",
    "    return port"
   ]
  },
  {
   "cell_type": "code",
   "execution_count": 70,
   "metadata": {},
   "outputs": [],
   "source": [
    "def send_to_mcu(port, data):\n",
    "    bytes_written = port.write(data)\n",
    "    return bytes_written"
   ]
  },
  {
   "cell_type": "code",
   "execution_count": 71,
   "metadata": {},
   "outputs": [],
   "source": [
    "def read_result_from_mcu(port):\n",
    "    line = port.read_until()   # read a '\\n' terminated line\n",
    "    return line"
   ]
  },
  {
   "cell_type": "code",
   "execution_count": 73,
   "metadata": {},
   "outputs": [],
   "source": [
    "def infer_with_MCU(raw_image):\n",
    "    img = np.array(raw_image, dtype=np.uint8)\n",
    "    bytes_sent = send_to_mcu(serial_port, img)\n",
    "    \n",
    "    response_str = read_result_from_mcu(serial_port)\n",
    "    response_str = response_str.decode(\"utf-8\")\n",
    "    predictions = np.fromstring(response_str, dtype=np.float32, sep=',')\n",
    "    return predictions[:-1]\n",
    "    # return None"
   ]
  },
  {
   "cell_type": "markdown",
   "metadata": {},
   "source": [
    "## Serial port setup"
   ]
  },
  {
   "cell_type": "code",
   "execution_count": 77,
   "metadata": {},
   "outputs": [
    {
     "name": "stdout",
     "output_type": "stream",
     "text": [
      "Opened serial port : /dev/ttyUSB0\n"
     ]
    }
   ],
   "source": [
    "SERIAL_PORT_NAME = '/dev/ttyUSB0'\n",
    "# SERIAL_PORT_NAME = '/dev/ttyUSB1'\n",
    "# SERIAL_PORT_NAME = '/dev/ttyUSB2'\n",
    "# SERIAL_PORT_NAME = '/dev/ttyUSB3'\n",
    "# SERIAL_PORT_NAME = '/dev/ttyUSB4'\n",
    "# SERIAL_PORT_NAME = '/dev/ttyUSB5'\n",
    "\n",
    "# Configure and open serial port\n",
    "serial_port = init_serial(SERIAL_PORT_NAME)\n",
    "\n",
    "# Check which port was really used\n",
    "print(\"Opened serial port : {0}\".format(serial_port.name))"
   ]
  },
  {
   "cell_type": "markdown",
   "metadata": {},
   "source": [
    "## Predictions"
   ]
  },
  {
   "cell_type": "code",
   "execution_count": 78,
   "metadata": {
    "scrolled": false
   },
   "outputs": [
    {
     "name": "stdout",
     "output_type": "stream",
     "text": [
      "General Accuracy:  1.0\n"
     ]
    }
   ],
   "source": [
    "i = 0\n",
    "right_preds = 0\n",
    "for raw_image in x_test[:1]:\n",
    "    \n",
    "    result_mcu = infer_with_MCU(raw_image) # discard the last element (NaN)\n",
    "    \n",
    "    # print(f\"tfl esp32 image({i}): y_pred = {np.argmax(result_mcu)} | y_test = {y_test[i][0]} -> {np.argmax(result_mcu) == y_test[i][0]}\")\n",
    "\n",
    "    if np.argmax(result_mcu) == y_test[i][0]:\n",
    "        right_preds += 1\n",
    "    i += 1\n",
    "\n",
    "print(\"General Accuracy: \", right_preds/i)"
   ]
  },
  {
   "cell_type": "markdown",
   "metadata": {},
   "source": [
    "## Statistics"
   ]
  }
 ],
 "metadata": {
  "kernelspec": {
   "display_name": "Python 3",
   "language": "python",
   "name": "python3"
  },
  "language_info": {
   "codemirror_mode": {
    "name": "ipython",
    "version": 3
   },
   "file_extension": ".py",
   "mimetype": "text/x-python",
   "name": "python",
   "nbconvert_exporter": "python",
   "pygments_lexer": "ipython3",
   "version": "3.12.3"
  }
 },
 "nbformat": 4,
 "nbformat_minor": 4
}
